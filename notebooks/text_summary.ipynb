{
 "cells": [
  {
   "cell_type": "code",
   "execution_count": 1,
   "id": "85411765",
   "metadata": {},
   "outputs": [
    {
     "name": "stdout",
     "output_type": "stream",
     "text": [
      "Requirement already satisfied: transformers in c:\\users\\biraj\\anaconda3\\envs\\biraj\\lib\\site-packages (4.33.2)\n",
      "Requirement already satisfied: torch in c:\\users\\biraj\\anaconda3\\envs\\biraj\\lib\\site-packages (2.0.1)\n",
      "Requirement already satisfied: matplotlib in c:\\users\\biraj\\anaconda3\\envs\\biraj\\lib\\site-packages (3.8.0)\n",
      "Requirement already satisfied: filelock in c:\\users\\biraj\\anaconda3\\envs\\biraj\\lib\\site-packages (from transformers) (3.12.4)\n",
      "Requirement already satisfied: huggingface-hub<1.0,>=0.15.1 in c:\\users\\biraj\\anaconda3\\envs\\biraj\\lib\\site-packages (from transformers) (0.17.2)\n",
      "Requirement already satisfied: numpy>=1.17 in c:\\users\\biraj\\anaconda3\\envs\\biraj\\lib\\site-packages (from transformers) (1.26.0)\n",
      "Requirement already satisfied: packaging>=20.0 in c:\\users\\biraj\\anaconda3\\envs\\biraj\\lib\\site-packages (from transformers) (23.1)\n",
      "Requirement already satisfied: pyyaml>=5.1 in c:\\users\\biraj\\anaconda3\\envs\\biraj\\lib\\site-packages (from transformers) (6.0.1)\n",
      "Requirement already satisfied: regex!=2019.12.17 in c:\\users\\biraj\\anaconda3\\envs\\biraj\\lib\\site-packages (from transformers) (2023.8.8)\n",
      "Requirement already satisfied: requests in c:\\users\\biraj\\anaconda3\\envs\\biraj\\lib\\site-packages (from transformers) (2.31.0)\n",
      "Requirement already satisfied: tokenizers!=0.11.3,<0.14,>=0.11.1 in c:\\users\\biraj\\anaconda3\\envs\\biraj\\lib\\site-packages (from transformers) (0.13.3)\n",
      "Requirement already satisfied: safetensors>=0.3.1 in c:\\users\\biraj\\anaconda3\\envs\\biraj\\lib\\site-packages (from transformers) (0.3.3)\n",
      "Requirement already satisfied: tqdm>=4.27 in c:\\users\\biraj\\anaconda3\\envs\\biraj\\lib\\site-packages (from transformers) (4.66.1)\n",
      "Requirement already satisfied: typing-extensions in c:\\users\\biraj\\anaconda3\\envs\\biraj\\lib\\site-packages (from torch) (4.8.0)\n",
      "Requirement already satisfied: sympy in c:\\users\\biraj\\anaconda3\\envs\\biraj\\lib\\site-packages (from torch) (1.12)\n",
      "Requirement already satisfied: networkx in c:\\users\\biraj\\anaconda3\\envs\\biraj\\lib\\site-packages (from torch) (3.1)\n",
      "Requirement already satisfied: jinja2 in c:\\users\\biraj\\anaconda3\\envs\\biraj\\lib\\site-packages (from torch) (3.1.2)\n",
      "Requirement already satisfied: contourpy>=1.0.1 in c:\\users\\biraj\\anaconda3\\envs\\biraj\\lib\\site-packages (from matplotlib) (1.1.1)\n",
      "Requirement already satisfied: cycler>=0.10 in c:\\users\\biraj\\anaconda3\\envs\\biraj\\lib\\site-packages (from matplotlib) (0.11.0)\n",
      "Requirement already satisfied: fonttools>=4.22.0 in c:\\users\\biraj\\anaconda3\\envs\\biraj\\lib\\site-packages (from matplotlib) (4.42.1)\n",
      "Requirement already satisfied: kiwisolver>=1.0.1 in c:\\users\\biraj\\anaconda3\\envs\\biraj\\lib\\site-packages (from matplotlib) (1.4.5)\n",
      "Requirement already satisfied: pillow>=6.2.0 in c:\\users\\biraj\\anaconda3\\envs\\biraj\\lib\\site-packages (from matplotlib) (10.0.1)\n",
      "Requirement already satisfied: pyparsing>=2.3.1 in c:\\users\\biraj\\anaconda3\\envs\\biraj\\lib\\site-packages (from matplotlib) (3.1.1)\n",
      "Requirement already satisfied: python-dateutil>=2.7 in c:\\users\\biraj\\anaconda3\\envs\\biraj\\lib\\site-packages (from matplotlib) (2.8.2)\n",
      "Requirement already satisfied: fsspec in c:\\users\\biraj\\anaconda3\\envs\\biraj\\lib\\site-packages (from huggingface-hub<1.0,>=0.15.1->transformers) (2023.9.2)\n",
      "Requirement already satisfied: six>=1.5 in c:\\users\\biraj\\anaconda3\\envs\\biraj\\lib\\site-packages (from python-dateutil>=2.7->matplotlib) (1.16.0)\n",
      "Requirement already satisfied: colorama in c:\\users\\biraj\\anaconda3\\envs\\biraj\\lib\\site-packages (from tqdm>=4.27->transformers) (0.4.6)\n",
      "Requirement already satisfied: MarkupSafe>=2.0 in c:\\users\\biraj\\anaconda3\\envs\\biraj\\lib\\site-packages (from jinja2->torch) (2.1.3)\n",
      "Requirement already satisfied: charset-normalizer<4,>=2 in c:\\users\\biraj\\anaconda3\\envs\\biraj\\lib\\site-packages (from requests->transformers) (3.2.0)\n",
      "Requirement already satisfied: idna<4,>=2.5 in c:\\users\\biraj\\anaconda3\\envs\\biraj\\lib\\site-packages (from requests->transformers) (3.4)\n",
      "Requirement already satisfied: urllib3<3,>=1.21.1 in c:\\users\\biraj\\anaconda3\\envs\\biraj\\lib\\site-packages (from requests->transformers) (2.0.5)\n",
      "Requirement already satisfied: certifi>=2017.4.17 in c:\\users\\biraj\\anaconda3\\envs\\biraj\\lib\\site-packages (from requests->transformers) (2023.7.22)\n",
      "Requirement already satisfied: mpmath>=0.19 in c:\\users\\biraj\\anaconda3\\envs\\biraj\\lib\\site-packages (from sympy->torch) (1.3.0)\n"
     ]
    }
   ],
   "source": [
    "!pip install transformers torch matplotlib\n"
   ]
  },
  {
   "cell_type": "markdown",
   "id": "bd92d1b2",
   "metadata": {},
   "source": [
    "# Importing the required libraries"
   ]
  },
  {
   "cell_type": "code",
   "execution_count": null,
   "id": "52eeead4",
   "metadata": {},
   "outputs": [],
   "source": []
  },
  {
   "cell_type": "code",
   "execution_count": 2,
   "id": "cc693603",
   "metadata": {},
   "outputs": [],
   "source": [
    "import transformers\n",
    "import torch\n",
    "import matplotlib.pyplot as plt\n",
    "from transformers import PegasusTokenizer, PegasusForConditionalGeneration\n"
   ]
  },
  {
   "cell_type": "markdown",
   "id": "0b0a83a2",
   "metadata": {},
   "source": [
    "# Initialized the pretained model"
   ]
  },
  {
   "cell_type": "code",
   "execution_count": 3,
   "id": "629d2492",
   "metadata": {},
   "outputs": [
    {
     "name": "stderr",
     "output_type": "stream",
     "text": [
      "Some weights of PegasusForConditionalGeneration were not initialized from the model checkpoint at google/pegasus-xsum and are newly initialized: ['model.encoder.embed_positions.weight', 'model.decoder.embed_positions.weight']\n",
      "You should probably TRAIN this model on a down-stream task to be able to use it for predictions and inference.\n"
     ]
    },
    {
     "data": {
      "text/plain": [
       "PegasusForConditionalGeneration(\n",
       "  (model): PegasusModel(\n",
       "    (shared): Embedding(96103, 1024, padding_idx=0)\n",
       "    (encoder): PegasusEncoder(\n",
       "      (embed_tokens): Embedding(96103, 1024, padding_idx=0)\n",
       "      (embed_positions): PegasusSinusoidalPositionalEmbedding(512, 1024)\n",
       "      (layers): ModuleList(\n",
       "        (0-15): 16 x PegasusEncoderLayer(\n",
       "          (self_attn): PegasusAttention(\n",
       "            (k_proj): Linear(in_features=1024, out_features=1024, bias=True)\n",
       "            (v_proj): Linear(in_features=1024, out_features=1024, bias=True)\n",
       "            (q_proj): Linear(in_features=1024, out_features=1024, bias=True)\n",
       "            (out_proj): Linear(in_features=1024, out_features=1024, bias=True)\n",
       "          )\n",
       "          (self_attn_layer_norm): LayerNorm((1024,), eps=1e-05, elementwise_affine=True)\n",
       "          (activation_fn): ReLU()\n",
       "          (fc1): Linear(in_features=1024, out_features=4096, bias=True)\n",
       "          (fc2): Linear(in_features=4096, out_features=1024, bias=True)\n",
       "          (final_layer_norm): LayerNorm((1024,), eps=1e-05, elementwise_affine=True)\n",
       "        )\n",
       "      )\n",
       "      (layer_norm): LayerNorm((1024,), eps=1e-05, elementwise_affine=True)\n",
       "    )\n",
       "    (decoder): PegasusDecoder(\n",
       "      (embed_tokens): Embedding(96103, 1024, padding_idx=0)\n",
       "      (embed_positions): PegasusSinusoidalPositionalEmbedding(512, 1024)\n",
       "      (layers): ModuleList(\n",
       "        (0-15): 16 x PegasusDecoderLayer(\n",
       "          (self_attn): PegasusAttention(\n",
       "            (k_proj): Linear(in_features=1024, out_features=1024, bias=True)\n",
       "            (v_proj): Linear(in_features=1024, out_features=1024, bias=True)\n",
       "            (q_proj): Linear(in_features=1024, out_features=1024, bias=True)\n",
       "            (out_proj): Linear(in_features=1024, out_features=1024, bias=True)\n",
       "          )\n",
       "          (activation_fn): ReLU()\n",
       "          (self_attn_layer_norm): LayerNorm((1024,), eps=1e-05, elementwise_affine=True)\n",
       "          (encoder_attn): PegasusAttention(\n",
       "            (k_proj): Linear(in_features=1024, out_features=1024, bias=True)\n",
       "            (v_proj): Linear(in_features=1024, out_features=1024, bias=True)\n",
       "            (q_proj): Linear(in_features=1024, out_features=1024, bias=True)\n",
       "            (out_proj): Linear(in_features=1024, out_features=1024, bias=True)\n",
       "          )\n",
       "          (encoder_attn_layer_norm): LayerNorm((1024,), eps=1e-05, elementwise_affine=True)\n",
       "          (fc1): Linear(in_features=1024, out_features=4096, bias=True)\n",
       "          (fc2): Linear(in_features=4096, out_features=1024, bias=True)\n",
       "          (final_layer_norm): LayerNorm((1024,), eps=1e-05, elementwise_affine=True)\n",
       "        )\n",
       "      )\n",
       "      (layer_norm): LayerNorm((1024,), eps=1e-05, elementwise_affine=True)\n",
       "    )\n",
       "  )\n",
       "  (lm_head): Linear(in_features=1024, out_features=96103, bias=False)\n",
       ")"
      ]
     },
     "execution_count": 3,
     "metadata": {},
     "output_type": "execute_result"
    }
   ],
   "source": [
    "model_name = \"google/pegasus-xsum\"\n",
    "tokenizer = PegasusTokenizer.from_pretrained(model_name)\n",
    "model = PegasusForConditionalGeneration.from_pretrained(model_name)\n",
    "device = torch.device('cuda' if torch.cuda.is_available() else 'cpu')\n",
    "model.to(device)\n"
   ]
  },
  {
   "cell_type": "markdown",
   "id": "aeca5284",
   "metadata": {},
   "source": [
    "# Define a function to summarize text with a specified length"
   ]
  },
  {
   "cell_type": "code",
   "execution_count": 4,
   "id": "c09c33d8",
   "metadata": {
    "scrolled": true
   },
   "outputs": [],
   "source": [
    "def summarize_text(input_text, max_summary_length=100):\n",
    "    # Prepend \"summarize:\" to the input text\n",
    "    input_text = \"summarize: \" + input_text\n",
    "    # Tokenize and encode the input text\n",
    "    tokenized_text = tokenizer.encode(input_text, return_tensors='pt', max_length=512).to(device)\n",
    "    # Generate the summary with the specified length\n",
    "    summary_ids = model.generate(tokenized_text, min_length=30, max_length=max_summary_length)\n",
    "    # Decode and return the summary\n",
    "    summary = tokenizer.decode(summary_ids[0], skip_special_tokens=True)\n",
    "    return summary\n",
    "\n"
   ]
  },
  {
   "cell_type": "code",
   "execution_count": 5,
   "id": "5f220ce1",
   "metadata": {},
   "outputs": [],
   "source": [
    "# Input text to be summarized"
   ]
  },
  {
   "cell_type": "code",
   "execution_count": 6,
   "id": "0e93902a",
   "metadata": {},
   "outputs": [],
   "source": [
    "input_text = \"\"\"\n",
    "Amid a geopolitical flux, the Chinese side is pushing for Nepal to welcome the Global Security Initiative (GSI) and its Global Civilisational Initiative (GCI) and has sought increased cooperation on the new twin initiatives. The Chinese side aims to formalize this position in a joint communique likely to be released after the delegation-level talks between Dahal and his Chinese counterpart Li Qiang on Monday in Beijing. This leaves Nepal in a state of confusion.\n",
    "\n",
    "Before leaving for China’s Hangzhou, in an interview in New York with Kantipur, the Post’s sister publication, Dahal had categorically denied the chances of Nepal joining a security-related alliance.\n",
    "\n",
    "Speaking in the context of China’s Belt and Road during the interview, the prime minister stated that China is initiating the GSI, the GCI and the Global Development Initiative (GDI) and among these, there is no hesitation to participate in the GDI.\n",
    "\n",
    "“But we cannot wade into security-related issues. It is our stated policy not to be under the umbrella of any side. Ours is a non-aligned foreign policy. On the other hand, we are saying the American Indo-Pacific Strategy and State Partnership Program are part of security initiatives. If we are not taking part in one initiative [IPS, SPP], we cannot join others too,” said Dahal during the interview.\n",
    "\n",
    "But just a day after this interview, Dahal made a somewhat contradictory remark in China’s Hangzhou city during his meeting with Chinese President Xi Jinping on Saturday.\n",
    "\n",
    "According to China’s Ministry of Foreign Affairs, Dahal said Nepal supports a series of important concepts and initiatives proposed by Chinese President Xi.\n",
    "\n",
    "After coming to power in 2013, Chinese President Xi has come up with a series of initiatives like the BRI, GSI, GDI and GCI and the Chinese side keeps asking Nepal to support them resolutely.\n",
    "\n",
    "“Nepal supports a series of important concepts and initiatives put forward by President Xi Jinping, and is willing to work with China to promote the development of the international order in a more just and reasonable direction, safeguard the common interests of developing countries, and promote the building of a community with a shared future for mankind,” a statement issued by China’s Ministry of Foreign Affairs quoted Prime Minister Dahal as saying.\n",
    "\"\"\""
   ]
  },
  {
   "cell_type": "code",
   "execution_count": 7,
   "id": "61ccfc11",
   "metadata": {},
   "outputs": [],
   "source": [
    "# Specify the desired minimum summary length (in tokens)\n",
    "max_summary_length = 100"
   ]
  },
  {
   "cell_type": "code",
   "execution_count": 8,
   "id": "92276ac5",
   "metadata": {},
   "outputs": [
    {
     "name": "stderr",
     "output_type": "stream",
     "text": [
      "Truncation was not explicitly activated but `max_length` is provided a specific value, please use `truncation=True` to explicitly truncate examples to max length. Defaulting to 'longest_first' truncation strategy. If you encode pairs of sequences (GLUE-style) with the tokenizer you can select this strategy more precisely by providing a specific strategy to `truncation`.\n"
     ]
    }
   ],
   "source": [
    "# Generate the summary\n",
    "summary = summarize_text(input_text, max_summary_length)"
   ]
  },
  {
   "cell_type": "code",
   "execution_count": 9,
   "id": "0bb1191c",
   "metadata": {},
   "outputs": [
    {
     "name": "stdout",
     "output_type": "stream",
     "text": [
      "Input Text:\n",
      "\n",
      "Amid a geopolitical flux, the Chinese side is pushing for Nepal to welcome the Global Security Initiative (GSI) and its Global Civilisational Initiative (GCI) and has sought increased cooperation on the new twin initiatives. The Chinese side aims to formalize this position in a joint communique likely to be released after the delegation-level talks between Dahal and his Chinese counterpart Li Qiang on Monday in Beijing. This leaves Nepal in a state of confusion.\n",
      "\n",
      "Before leaving for China’s Hangzhou, in an interview in New York with Kantipur, the Post’s sister publication, Dahal had categorically denied the chances of Nepal joining a security-related alliance.\n",
      "\n",
      "Speaking in the context of China’s Belt and Road during the interview, the prime minister stated that China is initiating the GSI, the GCI and the Global Development Initiative (GDI) and among these, there is no hesitation to participate in the GDI.\n",
      "\n",
      "“But we cannot wade into security-related issues. It is our stated policy not to be under the umbrella of any side. Ours is a non-aligned foreign policy. On the other hand, we are saying the American Indo-Pacific Strategy and State Partnership Program are part of security initiatives. If we are not taking part in one initiative [IPS, SPP], we cannot join others too,” said Dahal during the interview.\n",
      "\n",
      "But just a day after this interview, Dahal made a somewhat contradictory remark in China’s Hangzhou city during his meeting with Chinese President Xi Jinping on Saturday.\n",
      "\n",
      "According to China’s Ministry of Foreign Affairs, Dahal said Nepal supports a series of important concepts and initiatives proposed by Chinese President Xi.\n",
      "\n",
      "After coming to power in 2013, Chinese President Xi has come up with a series of initiatives like the BRI, GSI, GDI and GCI and the Chinese side keeps asking Nepal to support them resolutely.\n",
      "\n",
      "“Nepal supports a series of important concepts and initiatives put forward by President Xi Jinping, and is willing to work with China to promote the development of the international order in a more just and reasonable direction, safeguard the common interests of developing countries, and promote the building of a community with a shared future for mankind,” a statement issued by China’s Ministry of Foreign Affairs quoted Prime Minister Dahal as saying.\n",
      "\n",
      "\n",
      "Summary:\n",
      "Nepal’s Prime Minister Pushpa Kamal Dahal is in China on a three-day official visit, but there are conflicting statements about Nepal’s stance on China’s new security-related initiatives.\n",
      "\n",
      "Summary Length (in tokens): 42\n"
     ]
    }
   ],
   "source": [
    "# Print the input text and summary\n",
    "print(\"Input Text:\")\n",
    "print(input_text)\n",
    "print(\"\\nSummary:\")\n",
    "print(summary)\n",
    "print(\"\\nSummary Length (in tokens):\", len(tokenizer.encode(summary)))\n"
   ]
  },
  {
   "cell_type": "code",
   "execution_count": null,
   "id": "2a848a0a",
   "metadata": {},
   "outputs": [],
   "source": []
  }
 ],
 "metadata": {
  "kernelspec": {
   "display_name": "Python 3 (ipykernel)",
   "language": "python",
   "name": "python3"
  },
  "language_info": {
   "codemirror_mode": {
    "name": "ipython",
    "version": 3
   },
   "file_extension": ".py",
   "mimetype": "text/x-python",
   "name": "python",
   "nbconvert_exporter": "python",
   "pygments_lexer": "ipython3",
   "version": "3.9.12"
  }
 },
 "nbformat": 4,
 "nbformat_minor": 5
}
